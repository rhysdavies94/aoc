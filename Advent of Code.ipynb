{
 "cells": [
  {
   "cell_type": "markdown",
   "id": "35921fce",
   "metadata": {},
   "source": [
    "### Day 1 Sonar Test"
   ]
  },
  {
   "cell_type": "markdown",
   "id": "54f3c007",
   "metadata": {},
   "source": [
    "[Website Link](https://adventofcode.com/2021/day/1)"
   ]
  },
  {
   "cell_type": "markdown",
   "id": "56b3cf33",
   "metadata": {},
   "source": [
    "#### Set up \n",
    "Grab data from website first (after downloading). Tried to use requests module, but getting session cookies to get personalised data was too time consuming"
   ]
  },
  {
   "cell_type": "code",
   "execution_count": 19,
   "id": "07fee310",
   "metadata": {},
   "outputs": [],
   "source": [
    "f = open('problem_data/AOCDay1.txt', 'r')\n",
    "string_numbers = f.read().split()\n",
    "numbers = [int(x) for x in string_numbers]"
   ]
  },
  {
   "cell_type": "markdown",
   "id": "d6ee9d97",
   "metadata": {},
   "source": [
    "#### Part 1"
   ]
  },
  {
   "cell_type": "code",
   "execution_count": 20,
   "id": "c93e0b94",
   "metadata": {},
   "outputs": [
    {
     "data": {
      "text/plain": [
       "1139"
      ]
     },
     "execution_count": 20,
     "metadata": {},
     "output_type": "execute_result"
    }
   ],
   "source": [
    "def increasing(numberlist): \n",
    "    \"\"\" This returns the number of times a number increases in a list\"\"\"\n",
    "    count = 0\n",
    "    for index,num in enumerate(numberlist):\n",
    "        if(index == 0):\n",
    "            pass\n",
    "        else: \n",
    "            if(numberlist[index]>numberlist[index-1]):\n",
    "                count+=1\n",
    "    return count\n",
    "increasing(numbers)"
   ]
  },
  {
   "cell_type": "markdown",
   "id": "fd038f7b",
   "metadata": {},
   "source": [
    "### Part 2"
   ]
  },
  {
   "cell_type": "code",
   "execution_count": 21,
   "id": "a47fe6ac",
   "metadata": {},
   "outputs": [
    {
     "data": {
      "text/plain": [
       "1103"
      ]
     },
     "execution_count": 21,
     "metadata": {},
     "output_type": "execute_result"
    }
   ],
   "source": [
    "import pandas as pd \n",
    "s = pd.Series(numbers)\n",
    "rolling_numbers = s.rolling(3).sum().dropna().reset_index(drop=True).tolist()\n",
    "increasing(rolling_numbers)"
   ]
  },
  {
   "cell_type": "markdown",
   "id": "82e7ef10",
   "metadata": {},
   "source": [
    "## Day 2: Directions\n",
    "### Set up "
   ]
  },
  {
   "cell_type": "code",
   "execution_count": 88,
   "id": "e02ec082",
   "metadata": {},
   "outputs": [],
   "source": [
    "f = open('problem_data/Day2.txt', 'r')\n",
    "movements = []\n",
    "text = f.read().split(\"\\n\")\n",
    "for i in text:\n",
    "    j = i.split()\n",
    "    movements.append((j[0],int(j[1])))"
   ]
  },
  {
   "cell_type": "markdown",
   "id": "17dd482d",
   "metadata": {},
   "source": [
    "### Part 1"
   ]
  },
  {
   "cell_type": "code",
   "execution_count": 102,
   "id": "51071530",
   "metadata": {},
   "outputs": [
    {
     "name": "stdout",
     "output_type": "stream",
     "text": [
      "The depth is 955 and horizontal is 2083 with a total of 1989265\n"
     ]
    }
   ],
   "source": [
    "def movement_tracker(movementlist):\n",
    "    directions = {'up': -1,'down':1,'forward':1}\n",
    "    horizontal = depth = total = 0\n",
    "    for direction,distance in movementlist:\n",
    "        if (direction == 'forward'):\n",
    "            horizontal += directions[direction]*distance\n",
    "        else: \n",
    "            depth += directions[direction]*distance\n",
    "    print(f'The depth is {depth} and horizontal is {horizontal} with a total of {depth*horizontal}')  \n",
    "movement_tracker(movements)     "
   ]
  },
  {
   "cell_type": "markdown",
   "id": "f523e063",
   "metadata": {},
   "source": [
    "### Part 2"
   ]
  },
  {
   "cell_type": "code",
   "execution_count": 106,
   "id": "54a878b0",
   "metadata": {},
   "outputs": [
    {
     "name": "stdout",
     "output_type": "stream",
     "text": [
      "The depth is 1002964 and horizontal is 2083 with a total of 2089174012\n"
     ]
    }
   ],
   "source": [
    "def movement_tracker(movementlist):\n",
    "    directions = {'up': -1,'down':1,'forward':1}\n",
    "    horizontal = depth = total = aim = 0\n",
    "    for direction,distance in movementlist:\n",
    "        if (direction == 'forward'):\n",
    "            horizontal += directions[direction]*distance\n",
    "            depth += aim*directions[direction]*distance\n",
    "        else: \n",
    "            aim += directions[direction]*distance\n",
    "    print(f'The depth is {depth} and horizontal is {horizontal} with a total of {depth*horizontal}')  \n",
    "movement_tracker(movements)     "
   ]
  },
  {
   "cell_type": "code",
   "execution_count": null,
   "id": "ea12165d",
   "metadata": {},
   "outputs": [],
   "source": []
  }
 ],
 "metadata": {
  "kernelspec": {
   "display_name": "Python 3",
   "language": "python",
   "name": "python3"
  },
  "language_info": {
   "codemirror_mode": {
    "name": "ipython",
    "version": 3
   },
   "file_extension": ".py",
   "mimetype": "text/x-python",
   "name": "python",
   "nbconvert_exporter": "python",
   "pygments_lexer": "ipython3",
   "version": "3.8.8"
  }
 },
 "nbformat": 4,
 "nbformat_minor": 5
}
