{
 "cells": [
  {
   "cell_type": "markdown",
   "id": "35921fce",
   "metadata": {},
   "source": [
    "### Day 1 Sonar Test"
   ]
  },
  {
   "cell_type": "markdown",
   "id": "54f3c007",
   "metadata": {},
   "source": [
    "[Website Link](https://adventofcode.com/2021/day/1)"
   ]
  },
  {
   "cell_type": "markdown",
   "id": "56b3cf33",
   "metadata": {},
   "source": [
    "#### Set up \n",
    "Grab data from website first (after downloading). Tried to use requests module, but getting session cookies to get personalised data was too time consuming"
   ]
  },
  {
   "cell_type": "code",
   "execution_count": 19,
   "id": "07fee310",
   "metadata": {},
   "outputs": [],
   "source": [
    "f = open('problem_data/AOCDay1.txt', 'r')\n",
    "string_numbers = f.read().split()\n",
    "numbers = [int(x) for x in string_numbers]"
   ]
  },
  {
   "cell_type": "markdown",
   "id": "d6ee9d97",
   "metadata": {},
   "source": [
    "#### Part 1"
   ]
  },
  {
   "cell_type": "code",
   "execution_count": 20,
   "id": "c93e0b94",
   "metadata": {},
   "outputs": [
    {
     "data": {
      "text/plain": [
       "1139"
      ]
     },
     "execution_count": 20,
     "metadata": {},
     "output_type": "execute_result"
    }
   ],
   "source": [
    "def increasing(numberlist): \n",
    "    \"\"\" This returns the number of times a number increases in a list\"\"\"\n",
    "    count = 0\n",
    "    for index,num in enumerate(numberlist):\n",
    "        if(index == 0):\n",
    "            pass\n",
    "        else: \n",
    "            if(numberlist[index]>numberlist[index-1]):\n",
    "                count+=1\n",
    "    return count\n",
    "increasing(numbers)"
   ]
  },
  {
   "cell_type": "markdown",
   "id": "fd038f7b",
   "metadata": {},
   "source": [
    "### Part 2"
   ]
  },
  {
   "cell_type": "code",
   "execution_count": 21,
   "id": "a47fe6ac",
   "metadata": {},
   "outputs": [
    {
     "data": {
      "text/plain": [
       "1103"
      ]
     },
     "execution_count": 21,
     "metadata": {},
     "output_type": "execute_result"
    }
   ],
   "source": [
    "import pandas as pd \n",
    "s = pd.Series(numbers)\n",
    "rolling_numbers = s.rolling(3).sum().dropna().reset_index(drop=True).tolist()\n",
    "increasing(rolling_numbers)"
   ]
  },
  {
   "cell_type": "markdown",
   "id": "aa7a6e29",
   "metadata": {},
   "source": [
    "## Day 2: Directions\n",
    "### Set up "
   ]
  },
  {
   "cell_type": "code",
   "execution_count": 88,
   "id": "1007594e",
   "metadata": {},
   "outputs": [],
   "source": [
    "f = open('problem_data/Day2.txt', 'r')\n",
    "movements = []\n",
    "text = f.read().split(\"\\n\")\n",
    "for i in text:\n",
    "    j = i.split()\n",
    "    movements.append((j[0],int(j[1])))"
   ]
  },
  {
   "cell_type": "markdown",
   "id": "e82c95a8",
   "metadata": {},
   "source": [
    "### Part 1"
   ]
  },
  {
   "cell_type": "code",
   "execution_count": 109,
   "id": "7bee0368",
   "metadata": {},
   "outputs": [
    {
     "name": "stdout",
     "output_type": "stream",
     "text": [
      "The depth is 955 and horizontal is 2,083 with a total of 1,989,265\n"
     ]
    }
   ],
   "source": [
    "def movement_tracker(movementlist):\n",
    "    directions = {'up': -1,'down':1,'forward':1}\n",
    "    horizontal = depth = total = 0\n",
    "    for direction,distance in movementlist:\n",
    "        if (direction == 'forward'):\n",
    "            horizontal += directions[direction]*distance\n",
    "        else: \n",
    "            depth += directions[direction]*distance\n",
    "    print(f'The depth is {depth:,} and horizontal is {horizontal:,} with a total of {depth*horizontal:,}')    \n",
    "movement_tracker(movements)     "
   ]
  },
  {
   "cell_type": "markdown",
   "id": "225384ce",
   "metadata": {},
   "source": [
    "### Part 2"
   ]
  },
  {
   "cell_type": "code",
   "execution_count": 108,
   "id": "302f3baf",
   "metadata": {},
   "outputs": [
    {
     "name": "stdout",
     "output_type": "stream",
     "text": [
      "The depth is 1,002,964 and horizontal is 2,083 with a total of 2,089,174,012\n"
     ]
    }
   ],
   "source": [
    "def movement_tracker(movementlist):\n",
    "    directions = {'up': -1,'down':1,'forward':1}\n",
    "    horizontal = depth = total = aim = 0\n",
    "    for direction,distance in movementlist:\n",
    "        if (direction == 'forward'):\n",
    "            horizontal += directions[direction]*distance\n",
    "            depth += aim*directions[direction]*distance\n",
    "        else: \n",
    "            aim += directions[direction]*distance\n",
    "    print(f'The depth is {depth:,} and horizontal is {horizontal:,} with a total of {depth*horizontal:,}')  \n",
    "movement_tracker(movements)     "
   ]
  },
  {
   "cell_type": "markdown",
   "id": "06e64150",
   "metadata": {},
   "source": [
    "## Day 3 Binary Diagnostic\n",
    "Set up"
   ]
  },
  {
   "cell_type": "code",
   "execution_count": 1,
   "id": "3ffedb41",
   "metadata": {},
   "outputs": [],
   "source": [
    "from collections import defaultdict as dd\n",
    "dd(list)\n",
    "\n",
    "with open('problem_data/Day3.txt', 'r') as f:\n",
    "     myList = [x.strip() for x in f.readlines()]"
   ]
  },
  {
   "cell_type": "markdown",
   "id": "9c725594",
   "metadata": {},
   "source": [
    "### Part 1"
   ]
  },
  {
   "cell_type": "code",
   "execution_count": 2,
   "id": "c2dd2ac2",
   "metadata": {},
   "outputs": [
    {
     "name": "stdout",
     "output_type": "stream",
     "text": [
      "001100001011 110011110100 779 3316 2583164\n"
     ]
    }
   ],
   "source": [
    "def binD(binList):\n",
    "    from collections import Counter\n",
    "    dic = {}\n",
    "    most = least = ''\n",
    "    for i in range(lenlen(str(binList[0]))):\n",
    "        dic[i] = []\n",
    "        for j in range(len(binList)):\n",
    "            dic[i].append(binList[j][i])  \n",
    "        most += Counter(dic[i]).most_common(1)[0][0]\n",
    "        least += Counter(dic[i]).most_common()[-1][0]\n",
    "    return dic,most,least  \n",
    "dic, most,least  = binD(myList)\n",
    "most_bin,least_bin = int(most,2), int(least,2)\n",
    "power_consumption = most_bin* least_bin\n",
    "print(most, least, most_bin,least_bin,power_consumption)"
   ]
  },
  {
   "cell_type": "markdown",
   "id": "c645f9f6",
   "metadata": {},
   "source": [
    "### Part 2"
   ]
  },
  {
   "cell_type": "code",
   "execution_count": 126,
   "id": "99197a37",
   "metadata": {},
   "outputs": [],
   "source": [
    "Lcop1 =Lcop2 = myList.copy()"
   ]
  },
  {
   "cell_type": "code",
   "execution_count": 123,
   "id": "384fd592",
   "metadata": {},
   "outputs": [],
   "source": [
    "def common_value(lst,ratingtype,position):\n",
    "    \"\"\"\n",
    "    This functions uses flow control to check whether values are less than 0.5 and return the proper values\n",
    "    \"\"\"\n",
    "    lst = [int(x[position]) for x in lst]\n",
    "    if ratingtype == 'ox':   \n",
    "        if sum(lst)/len(lst) <0.5:\n",
    "            output = '0'\n",
    "        else:\n",
    "            output = '1'\n",
    "    elif ratingtype == 'co':\n",
    "        if sum(lst)/len(lst) < 0.5:\n",
    "            output = '1'\n",
    "        else:\n",
    "            output = '0'\n",
    "    return output"
   ]
  },
  {
   "cell_type": "code",
   "execution_count": 137,
   "id": "bf4d9fd8",
   "metadata": {},
   "outputs": [],
   "source": [
    "def lifeSupport(listRun,match_type,iteration=0):\n",
    "    \"\"\"\n",
    "    This function recursively filters the list, based on most common value using common_value\n",
    "    \"\"\"\n",
    "    if(len(listRun)==1):\n",
    "        return listRun[0]\n",
    "    else:\n",
    "        match = common_value(listRun,match_type,iteration)\n",
    "        listRun = [element for element in listRun if element[iteration]== str(match)]\n",
    "        iteration+=1\n",
    "        return lifeSupport(listRun,match_type,iteration)\n",
    "ox , co  = int(lifeSupport(myList,'ox'),2),int(lifeSupport(myList,'co'),2)\n",
    "lr = ox * co"
   ]
  },
  {
   "cell_type": "code",
   "execution_count": 147,
   "id": "2a93a7d4",
   "metadata": {},
   "outputs": [
    {
     "name": "stdout",
     "output_type": "stream",
     "text": [
      "The oxygen generator rating is 825, the CO2 scrubber rating is 3,375 and the Life support rating is 2,784,375\n"
     ]
    }
   ],
   "source": [
    "print(f'The oxygen generator rating is {ox}, the CO2 scrubber rating is {co:,} and the Life support rating is {lr:,}')"
   ]
  },
  {
   "cell_type": "code",
   "execution_count": null,
   "id": "5700d869",
   "metadata": {},
   "outputs": [],
   "source": []
  }
 ],
 "metadata": {
  "kernelspec": {
   "display_name": "Python 3",
   "language": "python",
   "name": "python3"
  },
  "language_info": {
   "codemirror_mode": {
    "name": "ipython",
    "version": 3
   },
   "file_extension": ".py",
   "mimetype": "text/x-python",
   "name": "python",
   "nbconvert_exporter": "python",
   "pygments_lexer": "ipython3",
   "version": "3.8.8"
  }
 },
 "nbformat": 4,
 "nbformat_minor": 5
}
