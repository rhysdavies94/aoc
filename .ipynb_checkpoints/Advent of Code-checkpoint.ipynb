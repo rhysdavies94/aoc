{
 "cells": [
  {
   "cell_type": "markdown",
   "id": "35921fce",
   "metadata": {},
   "source": [
    "### Day 1 Sonar Test"
   ]
  },
  {
   "cell_type": "markdown",
   "id": "54f3c007",
   "metadata": {},
   "source": [
    "[Website Link](https://adventofcode.com/2021/day/1)"
   ]
  },
  {
   "cell_type": "markdown",
   "id": "56b3cf33",
   "metadata": {},
   "source": [
    "#### Set up \n",
    "Grab data from website first (after downloading). Tried to use requests module, but getting session cookies to get personalised data was too time consuming"
   ]
  },
  {
   "cell_type": "code",
   "execution_count": 19,
   "id": "07fee310",
   "metadata": {},
   "outputs": [],
   "source": [
    "f = open('problem_data/AOCDay1.txt', 'r')\n",
    "string_numbers = f.read().split()\n",
    "numbers = [int(x) for x in string_numbers]"
   ]
  },
  {
   "cell_type": "markdown",
   "id": "d6ee9d97",
   "metadata": {},
   "source": [
    "#### Part 1"
   ]
  },
  {
   "cell_type": "code",
   "execution_count": 20,
   "id": "c93e0b94",
   "metadata": {},
   "outputs": [
    {
     "data": {
      "text/plain": [
       "1139"
      ]
     },
     "execution_count": 20,
     "metadata": {},
     "output_type": "execute_result"
    }
   ],
   "source": [
    "def increasing(numberlist): \n",
    "    \"\"\" This returns the number of times a number increases in a list\"\"\"\n",
    "    count = 0\n",
    "    for index,num in enumerate(numberlist):\n",
    "        if(index == 0):\n",
    "            pass\n",
    "        else: \n",
    "            if(numberlist[index]>numberlist[index-1]):\n",
    "                count+=1\n",
    "    return count\n",
    "increasing(numbers)"
   ]
  },
  {
   "cell_type": "markdown",
   "id": "fd038f7b",
   "metadata": {},
   "source": [
    "### Part 2"
   ]
  },
  {
   "cell_type": "code",
   "execution_count": 21,
   "id": "a47fe6ac",
   "metadata": {},
   "outputs": [
    {
     "data": {
      "text/plain": [
       "1103"
      ]
     },
     "execution_count": 21,
     "metadata": {},
     "output_type": "execute_result"
    }
   ],
   "source": [
    "import pandas as pd \n",
    "s = pd.Series(numbers)\n",
    "rolling_numbers = s.rolling(3).sum().dropna().reset_index(drop=True).tolist()\n",
    "increasing(rolling_numbers)"
   ]
  },
  {
   "cell_type": "markdown",
   "id": "aa7a6e29",
   "metadata": {},
   "source": [
    "## Day 2: Directions\n",
    "### Set up "
   ]
  },
  {
   "cell_type": "code",
   "execution_count": 88,
   "id": "1007594e",
   "metadata": {},
   "outputs": [],
   "source": [
    "f = open('problem_data/Day2.txt', 'r')\n",
    "movements = []\n",
    "text = f.read().split(\"\\n\")\n",
    "for i in text:\n",
    "    j = i.split()\n",
    "    movements.append((j[0],int(j[1])))"
   ]
  },
  {
   "cell_type": "markdown",
   "id": "e82c95a8",
   "metadata": {},
   "source": [
    "### Part 1"
   ]
  },
  {
   "cell_type": "code",
   "execution_count": 109,
   "id": "7bee0368",
   "metadata": {},
   "outputs": [
    {
     "name": "stdout",
     "output_type": "stream",
     "text": [
      "The depth is 955 and horizontal is 2,083 with a total of 1,989,265\n"
     ]
    }
   ],
   "source": [
    "def movement_tracker(movementlist):\n",
    "    directions = {'up': -1,'down':1,'forward':1}\n",
    "    horizontal = depth = total = 0\n",
    "    for direction,distance in movementlist:\n",
    "        if (direction == 'forward'):\n",
    "            horizontal += directions[direction]*distance\n",
    "        else: \n",
    "            depth += directions[direction]*distance\n",
    "    print(f'The depth is {depth:,} and horizontal is {horizontal:,} with a total of {depth*horizontal:,}')    \n",
    "movement_tracker(movements)     "
   ]
  },
  {
   "cell_type": "markdown",
   "id": "225384ce",
   "metadata": {},
   "source": [
    "### Part 2"
   ]
  },
  {
   "cell_type": "code",
   "execution_count": 108,
   "id": "302f3baf",
   "metadata": {},
   "outputs": [
    {
     "name": "stdout",
     "output_type": "stream",
     "text": [
      "The depth is 1,002,964 and horizontal is 2,083 with a total of 2,089,174,012\n"
     ]
    }
   ],
   "source": [
    "def movement_tracker(movementlist):\n",
    "    directions = {'up': -1,'down':1,'forward':1}\n",
    "    horizontal = depth = total = aim = 0\n",
    "    for direction,distance in movementlist:\n",
    "        if (direction == 'forward'):\n",
    "            horizontal += directions[direction]*distance\n",
    "            depth += aim*directions[direction]*distance\n",
    "        else: \n",
    "            aim += directions[direction]*distance\n",
    "    print(f'The depth is {depth:,} and horizontal is {horizontal:,} with a total of {depth*horizontal:,}')  \n",
    "movement_tracker(movements)     "
   ]
  },
  {
   "cell_type": "markdown",
   "id": "06e64150",
   "metadata": {},
   "source": [
    "## Day 3 Binary Diagnostic\n",
    "Set up"
   ]
  },
  {
   "cell_type": "code",
   "execution_count": 3,
   "id": "3ffedb41",
   "metadata": {
    "scrolled": false
   },
   "outputs": [],
   "source": [
    "from collections import defaultdict as dd\n",
    "dd(list)\n",
    "\n",
    "with open('problem_data/Day3.txt', 'r') as f:\n",
    "     myList = [x.strip() for x in f.readlines()]"
   ]
  },
  {
   "cell_type": "markdown",
   "id": "12cf1a5c",
   "metadata": {},
   "source": [
    "### Part 1"
   ]
  },
  {
   "cell_type": "code",
   "execution_count": 34,
   "id": "c2dd2ac2",
   "metadata": {},
   "outputs": [
    {
     "data": {
      "text/plain": [
       "'2,583,164'"
      ]
     },
     "execution_count": 34,
     "metadata": {},
     "output_type": "execute_result"
    }
   ],
   "source": [
    "def binD(binList):\n",
    "    from collections import Counter\n",
    "    dic = {}\n",
    "    most = ''\n",
    "    least = ''\n",
    "    for i in range(len(str(binList[0]))):\n",
    "        dic[i] = []\n",
    "        for j in range(len(binList)):\n",
    "            dic[i].append(binList[j][i])\n",
    "        most += Counter(dic[i]).most_common(1)[0][0]\n",
    "        least += Counter(dic[i]).most_common()[-1][0]\n",
    "    return dic,most,least    \n",
    "binD(myList)\n",
    "format(int(most,base=2)*int(least,base=2),',')"
   ]
  },
  {
   "cell_type": "markdown",
   "id": "d2403f54",
   "metadata": {},
   "source": [
    "### Part 2"
   ]
  },
  {
   "cell_type": "code",
   "execution_count": 31,
   "id": "cd0a53a0",
   "metadata": {},
   "outputs": [],
   "source": [
    "Lcop = myList.copy()"
   ]
  },
  {
   "cell_type": "code",
   "execution_count": 21,
   "id": "69133a2a",
   "metadata": {},
   "outputs": [],
   "source": [
    "y = [1]"
   ]
  },
  {
   "cell_type": "code",
   "execution_count": 22,
   "id": "63b4acca",
   "metadata": {},
   "outputs": [
    {
     "data": {
      "text/plain": [
       "1"
      ]
     },
     "execution_count": 22,
     "metadata": {},
     "output_type": "execute_result"
    }
   ],
   "source": [
    "len(y)"
   ]
  },
  {
   "cell_type": "code",
   "execution_count": 28,
   "id": "b4e4867d",
   "metadata": {},
   "outputs": [
    {
     "data": {
      "text/plain": [
       "[('1', 7)]"
      ]
     },
     "execution_count": 28,
     "metadata": {},
     "output_type": "execute_result"
    }
   ],
   "source": [
    "Counter('110001010111').most_common(1)[0][0]"
   ]
  },
  {
   "cell_type": "code",
   "execution_count": null,
   "id": "43bc3a93",
   "metadata": {},
   "outputs": [],
   "source": [
    "if(most == ''):\n",
    "    int(most)\n",
    "else:\n",
    "    filter(,)\n",
    "    "
   ]
  },
  {
   "cell_type": "markdown",
   "id": "ab38b34d",
   "metadata": {},
   "source": []
  }
 ],
 "metadata": {
  "kernelspec": {
   "display_name": "Python 3",
   "language": "python",
   "name": "python3"
  },
  "language_info": {
   "codemirror_mode": {
    "name": "ipython",
    "version": 3
   },
   "file_extension": ".py",
   "mimetype": "text/x-python",
   "name": "python",
   "nbconvert_exporter": "python",
   "pygments_lexer": "ipython3",
   "version": "3.8.8"
  }
 },
 "nbformat": 4,
 "nbformat_minor": 5
}
